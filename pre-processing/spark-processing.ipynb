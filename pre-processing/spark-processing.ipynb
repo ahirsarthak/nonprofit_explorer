{
 "cells": [
  {
   "cell_type": "code",
   "execution_count": 1,
   "id": "857301bf",
   "metadata": {},
   "outputs": [],
   "source": [
    "import os\n",
    "import sys\n",
    "import findspark\n",
    "from dotenv import load_dotenv\n",
    "\n",
    "load_dotenv()  # Load variables from .env file\n",
    "\n",
    "os.environ['PYSPARK_SUBMIT_ARGS'] = '--packages org.apache.hadoop:hadoop-aws:3.3.1,com.amazonaws:aws-java-sdk-bundle:1.11.901 pyspark-shell'\n",
    "# Set Spark Home manually\n",
    "os.environ[\"SPARK_HOME\"] = \"/opt/homebrew/Cellar/apache-spark/3.5.4/libexec\"\n",
    "os.environ[\"PYSPARK_PYTHON\"] = \"python3\"\n",
    "\n",
    "\n"
   ]
  },
  {
   "cell_type": "code",
   "execution_count": 2,
   "id": "3d20371b",
   "metadata": {},
   "outputs": [
    {
     "name": "stdout",
     "output_type": "stream",
     "text": [
      "findspark initialized successfully!\n"
     ]
    }
   ],
   "source": [
    "# Ensure Python can find Spark\n",
    "sys.path.append(\"/opt/homebrew/Cellar/apache-spark/3.5.4/libexec/python/lib\")\n",
    "\n",
    "findspark.init()\n",
    "print(\"findspark initialized successfully!\")"
   ]
  },
  {
   "cell_type": "markdown",
   "id": "855e6102",
   "metadata": {},
   "source": [
    "from pyspark.sql import SparkSession\n",
    "\n",
    "spark = SparkSession.builder \\\n",
    "    .appName(\"MyApp\") \\\n",
    "    .master(\"local[*]\") \\\n",
    "    .getOrCreate()\n",
    "\n",
    "print(\"Spark session started successfully!\")\n",
    "spark\n"
   ]
  },
  {
   "cell_type": "code",
   "execution_count": 3,
   "id": "3bed6f2e-00b6-4258-a4ce-951e3809ec4e",
   "metadata": {},
   "outputs": [
    {
     "name": "stderr",
     "output_type": "stream",
     "text": [
      "25/03/08 20:00:36 WARN Utils: Your hostname, Sarthaks-MacBook-Pro.local resolves to a loopback address: 127.0.0.1; using 172.20.20.20 instead (on interface en0)\n",
      "25/03/08 20:00:36 WARN Utils: Set SPARK_LOCAL_IP if you need to bind to another address\n",
      "Ivy Default Cache set to: /Users/sarthak/.ivy2/cache\n",
      "The jars for the packages stored in: /Users/sarthak/.ivy2/jars\n",
      "org.apache.hadoop#hadoop-aws added as a dependency\n",
      "com.amazonaws#aws-java-sdk-bundle added as a dependency\n",
      ":: resolving dependencies :: org.apache.spark#spark-submit-parent-b932eb86-b653-410e-835c-ba8c222ba844;1.0\n",
      "\tconfs: [default]\n"
     ]
    },
    {
     "name": "stdout",
     "output_type": "stream",
     "text": [
      ":: loading settings :: url = jar:file:/opt/homebrew/Cellar/apache-spark/3.5.4/libexec/jars/ivy-2.5.1.jar!/org/apache/ivy/core/settings/ivysettings.xml\n"
     ]
    },
    {
     "name": "stderr",
     "output_type": "stream",
     "text": [
      "\tfound org.apache.hadoop#hadoop-aws;3.3.1 in central\n",
      "\tfound com.amazonaws#aws-java-sdk-bundle;1.11.901 in central\n",
      "\tfound org.wildfly.openssl#wildfly-openssl;1.0.7.Final in central\n",
      ":: resolution report :: resolve 96ms :: artifacts dl 3ms\n",
      "\t:: modules in use:\n",
      "\tcom.amazonaws#aws-java-sdk-bundle;1.11.901 from central in [default]\n",
      "\torg.apache.hadoop#hadoop-aws;3.3.1 from central in [default]\n",
      "\torg.wildfly.openssl#wildfly-openssl;1.0.7.Final from central in [default]\n",
      "\t---------------------------------------------------------------------\n",
      "\t|                  |            modules            ||   artifacts   |\n",
      "\t|       conf       | number| search|dwnlded|evicted|| number|dwnlded|\n",
      "\t---------------------------------------------------------------------\n",
      "\t|      default     |   3   |   0   |   0   |   0   ||   3   |   0   |\n",
      "\t---------------------------------------------------------------------\n",
      ":: retrieving :: org.apache.spark#spark-submit-parent-b932eb86-b653-410e-835c-ba8c222ba844\n",
      "\tconfs: [default]\n",
      "\t0 artifacts copied, 3 already retrieved (0kB/3ms)\n",
      "25/03/08 20:00:36 WARN NativeCodeLoader: Unable to load native-hadoop library for your platform... using builtin-java classes where applicable\n",
      "Setting default log level to \"WARN\".\n",
      "To adjust logging level use sc.setLogLevel(newLevel). For SparkR, use setLogLevel(newLevel).\n",
      "25/03/08 20:00:40 WARN MetricsConfig: Cannot locate configuration: tried hadoop-metrics2-s3a-file-system.properties,hadoop-metrics2.properties\n",
      "25/03/08 20:00:43 WARN SparkStringUtils: Truncated the string representation of a plan since it was too large. This behavior can be adjusted by setting 'spark.sql.debug.maxToStringFields'.\n"
     ]
    },
    {
     "name": "stdout",
     "output_type": "stream",
     "text": [
      "+---------+--------------------+---------------+--------+-------------+-----+----------+-----+----------+-----------+--------------+------+-------------+----------+---------+------------+------+----------+--------+---------+-------------+----------------+-------+---------+----------+-----------+-------+---------+\n",
      "|      EIN|                NAME|            ICO|  STREET|         CITY|STATE|       ZIP|GROUP|SUBSECTION|AFFILIATION|CLASSIFICATION|RULING|DEDUCTIBILITY|FOUNDATION| ACTIVITY|ORGANIZATION|STATUS|TAX_PERIOD|ASSET_CD|INCOME_CD|FILING_REQ_CD|PF_FILING_REQ_CD|ACCT_PD|ASSET_AMT|INCOME_AMT|REVENUE_AMT|NTEE_CD|SORT_NAME|\n",
      "+---------+--------------------+---------------+--------+-------------+-----+----------+-----+----------+-----------+--------------+------+-------------+----------+---------+------------+------+----------+--------+---------+-------------+----------------+-------+---------+----------+-----------+-------+---------+\n",
      "|010215913|BUCK MEMORIAL LIB...|    % TREASURER| MAIN ST|    BUCKSPORT|   ME|04416-0000| 0000|        03|          3|          3000|195006|            1|        15|061000000|           1|    01|    202312|       6|        4|           01|               0|     12|  2571599|    426391|     234509|   NULL|     NULL|\n",
      "|010244457|NEW ENGLAND ELECT...|           NULL|PO BOX A|KENNEBUNKPORT|   ME|04046-1690| 0000|        03|          3|          1000|194801|            1|        16|062060000|           1|    01|    202312|       8|        6|           01|               0|     12| 10980223|   2428508|    1681938|   NULL|     NULL|\n",
      "|010319671|WELLINGTON EVANGE...|           NULL|   LOCAL|   WELLINGTON|   ME|04990-0000| 0000|        03|          3|          1000|197303|            1|        10|001000000|           1|    01|      NULL|       0|        0|           06|               0|     12|     NULL|      NULL|       NULL|   NULL|     NULL|\n",
      "|010329152|BUCKSPORT BIBLE C...|           NULL|PO BOX Q|    BUCKSPORT|   ME|04416-1217| 0000|        03|          3|          7000|199512|            1|        10|001029030|           1|    01|      NULL|       0|        0|           06|               0|     08|     NULL|      NULL|       NULL|   X20Z|     NULL|\n",
      "|010339532|POPHAM BEACH ASSO...|% SHELTON WHITE|  PO BOX|   PHIPPSBURG|   ME|04562-0000| 0000|        03|          3|          2000|199306|            1|        15|061319000|           5|    01|    202312|       0|        0|           02|               0|     12|        0|         0|          0|   NULL|     NULL|\n",
      "+---------+--------------------+---------------+--------+-------------+-----+----------+-----+----------+-----------+--------------+------+-------------+----------+---------+------------+------+----------+--------+---------+-------------+----------------+-------+---------+----------+-----------+-------+---------+\n",
      "only showing top 5 rows\n",
      "\n"
     ]
    }
   ],
   "source": [
    "\n",
    "from pyspark.sql import SparkSession\n",
    "from py4j.java_gateway import java_import\n",
    "\n",
    "\n",
    "spark = SparkSession.builder \\\n",
    "    .appName(\"IcebergTableSetup\") \\\n",
    "    .config(\"spark.sql.catalog.my_catalog\", \"org.apache.iceberg.spark.SparkCatalog\") \\\n",
    "    .config(\"spark.sql.catalog.my_catalog.type\", \"hadoop\") \\\n",
    "    .config(\"spark.sql.catalog.my_catalog.warehouse\", os.environ.get(\"s3_location\")) \\\n",
    "    .config(\"spark.hadoop.fs.s3a.impl\", \"org.apache.hadoop.fs.s3a.S3AFileSystem\") \\\n",
    "    .config(\"spark.hadoop.fs.s3a.access.key\", os.environ.get(\"AWS_ACCESS_KEY_ID\")) \\\n",
    "    .config(\"spark.hadoop.fs.s3a.secret.key\", os.environ.get(\"AWS_SECRET_ACCESS_KEY\")) \\\n",
    "    .config(\"spark.hadoop.fs.s3a.endpoint\", \"s3.amazonaws.com\") \\\n",
    "    .config(\"spark.sql.adaptive.enabled\", \"true\") \\\n",
    "        .config(\"spark.sql.adaptive.coalescePartitions.enabled\", \"true\") \\\n",
    "            .config(\"spark.sql.adaptive.skewJoin.enabled\", \"true\") \\\n",
    "                .config(\"spark.sql.adaptive.localShuffleReader.enabled\", \"true\") \\\n",
    "                    .getOrCreate()\n",
    "\n",
    "df = spark.read.csv(\"s3a://nonprofit-explorer/raw_data/eo1.csv\", header=True)\n",
    "df.show(5)"
   ]
  },
  {
   "cell_type": "code",
   "execution_count": 5,
   "id": "5017d959",
   "metadata": {},
   "outputs": [
    {
     "data": {
      "text/plain": [
       "DataFrame[EIN: string, NAME: string, ICO: string, STREET: string, CITY: string, STATE: string, ZIP: string, GROUP: string, SUBSECTION: string, AFFILIATION: string, CLASSIFICATION: string, RULING: string, DEDUCTIBILITY: string, FOUNDATION: string, ACTIVITY: string, ORGANIZATION: string, STATUS: string, TAX_PERIOD: string, ASSET_CD: string, INCOME_CD: string, FILING_REQ_CD: string, PF_FILING_REQ_CD: string, ACCT_PD: string, ASSET_AMT: string, INCOME_AMT: string, REVENUE_AMT: string, NTEE_CD: string, SORT_NAME: string]"
      ]
     },
     "execution_count": 5,
     "metadata": {},
     "output_type": "execute_result"
    }
   ],
   "source": [
    "df"
   ]
  },
  {
   "cell_type": "code",
   "execution_count": 3,
   "id": "a625cbec",
   "metadata": {},
   "outputs": [
    {
     "name": "stdout",
     "output_type": "stream",
     "text": [
      "S3A Implementation: org.apache.hadoop.fs.s3a.S3AFileSystem\n"
     ]
    }
   ],
   "source": []
  },
  {
   "cell_type": "code",
   "execution_count": 7,
   "id": "db4c3b51-35c0-4859-ae92-b81421ba73ca",
   "metadata": {},
   "outputs": [
    {
     "name": "stdout",
     "output_type": "stream",
     "text": [
      "+---------+--------------------+-------------------+--------------------+--------------+-----+----------+-----+----------+-----------+--------------+------+-------------+----------+---------+------------+------+----------+--------+---------+-------------+----------------+-------+---------+----------+-----------+-------+--------------------+\n",
      "|      EIN|                NAME|                ICO|              STREET|          CITY|STATE|       ZIP|GROUP|SUBSECTION|AFFILIATION|CLASSIFICATION|RULING|DEDUCTIBILITY|FOUNDATION| ACTIVITY|ORGANIZATION|STATUS|TAX_PERIOD|ASSET_CD|INCOME_CD|FILING_REQ_CD|PF_FILING_REQ_CD|ACCT_PD|ASSET_AMT|INCOME_AMT|REVENUE_AMT|NTEE_CD|           SORT_NAME|\n",
      "+---------+--------------------+-------------------+--------------------+--------------+-----+----------+-----+----------+-----------+--------------+------+-------------+----------+---------+------------+------+----------+--------+---------+-------------+----------------+-------+---------+----------+-----------+-------+--------------------+\n",
      "|010215913|BUCK MEMORIAL LIB...|        % TREASURER|             MAIN ST|     BUCKSPORT|   ME|04416-0000| 0000|        03|          3|          3000|195006|            1|        15|061000000|           1|    01|    202312|       6|        4|           01|               0|     12|  2571599|    426391|     234509|   NULL|                NULL|\n",
      "|010244457|NEW ENGLAND ELECT...|               NULL|            PO BOX A| KENNEBUNKPORT|   ME|04046-1690| 0000|        03|          3|          1000|194801|            1|        16|062060000|           1|    01|    202312|       8|        6|           01|               0|     12| 10980223|   2428508|    1681938|   NULL|                NULL|\n",
      "|010319671|WELLINGTON EVANGE...|               NULL|               LOCAL|    WELLINGTON|   ME|04990-0000| 0000|        03|          3|          1000|197303|            1|        10|001000000|           1|    01|      NULL|       0|        0|           06|               0|     12|     NULL|      NULL|       NULL|   NULL|                NULL|\n",
      "|010329152|BUCKSPORT BIBLE C...|               NULL|            PO BOX Q|     BUCKSPORT|   ME|04416-1217| 0000|        03|          3|          7000|199512|            1|        10|001029030|           1|    01|      NULL|       0|        0|           06|               0|     08|     NULL|      NULL|       NULL|   X20Z|                NULL|\n",
      "|010339532|POPHAM BEACH ASSO...|    % SHELTON WHITE|              PO BOX|    PHIPPSBURG|   ME|04562-0000| 0000|        03|          3|          2000|199306|            1|        15|061319000|           5|    01|    202312|       0|        0|           02|               0|     12|        0|         0|          0|   NULL|                NULL|\n",
      "|010346158|TACOMA LAKES ASSO...|     % JUDY BOURGET|     COMMUNITY DRIVE|    LITCHFIELD|   ME|04350-0000| 0000|        03|          3|          2000|201601|            1|        16|297351000|           1|    01|    202312|       0|        0|           02|               0|     12|        0|         0|          0|    C32|                NULL|\n",
      "|010351827|      HELEN R COE TR|      % PETER MALIA|CO MICHAEL FRIEDM...|      BRIDGTON|   ME|04009-0000| 0000|        03|          3|          1000|197712|            1|        04|040119602|           2|    01|    202403|       6|        5|           00|               1|     03|  2205920|    849132|       NULL|   NULL|                NULL|\n",
      "|010354589|EASTPORT HEALTH C...|               NULL|            PO BOX H|      EASTPORT|   ME|04631-0909| 0000|        03|          3|          1000|197802|            1|        15|179465154|           1|    01|    202306|       7|        7|           01|               0|     06|  7016159|   7262032|    7223608|   E320|                NULL|\n",
      "|010354783|BUSTINS ISLAND MA...|      % LYN MCELWEE|    GENERAL DELIVERY|BUSTINS ISLAND|   ME|04013-9999| 0000|        03|          3|          2000|197806|            1|        15|060061062|           1|    01|    202408|       0|        0|           02|               0|     08|        0|         0|          0|   NULL|                NULL|\n",
      "|010370171|FIRST PENTECOSTAL...|               NULL|               LOCAL|       KINGMAN|   ME|04451-0000| 0000|        03|          3|          7000|198012|            1|        10|001007029|           5|    01|      NULL|       0|        0|           07|               0|     12|     NULL|      NULL|       NULL|   NULL|                NULL|\n",
      "|010377246|NEW HOPE FOR WOME...|               NULL|            PO BOX A|      ROCKLAND|   ME|04841-0733| 0000|        03|          3|          1000|198111|            1|        15|319569431|           1|    01|    202309|       6|        6|           01|               0|     09|  2154861|   2426034|    2419175|   P430|                NULL|\n",
      "|010381834|EDDINGTON SALMON ...|               NULL|              PO BOX|        BREWER|   ME|04412-0000| 0000|        07|          3|          1000|198308|            2|        00|998000000|           1|    01|    202312|       0|        0|           02|               0|     12|        0|         0|          0|   NULL|                NULL|\n",
      "|010400759|PHILLIPS PUBLIC L...|               NULL|            PO BOX O|      PHILLIPS|   ME|04966-1514| 0000|        03|          3|          2300|202204|            1|        15|061000000|           1|    01|    202312|       4|        3|           01|               0|     12|   355310|     59556|      59556|    B11|                NULL|\n",
      "|010408548|SUNSET CEMETERY A...|% LARRY W LIGHTBODY|        FAHI POND RD|   NORTH ANSON|   ME|04958-0000| 0000|        13|          3|          1000|198512|            2|        00|900000000|           1|    01|    202312|       0|        0|           02|               0|     12|        0|         0|          0|   NULL|                NULL|\n",
      "|010419333|THE MOONSPRING HE...|               NULL|     MORGAN BAY ROAD|         SURRY|   ME|04684-0000| 0000|        03|          3|          7000|198712|            1|        10|001000000|           1|    01|      NULL|       0|        0|           06|               0|     12|     NULL|      NULL|       NULL|   NULL|                NULL|\n",
      "|010421806|THE BILL AND JOAN...|    % DEXTER ENTRPS|CO DEXTER ENTRPS ...|      PORTLAND|   ME|04101-0000| 0000|        03|          3|          1000|198705|            1|        04|602000000|           1|    01|    202312|       8|        7|           00|               1|     12| 30941597|   5833594|       NULL|   NULL|                NULL|\n",
      "|010424837|GEORGES RIVER LAN...|               NULL|            PO BOX B|      ROCKLAND|   ME|04841-0734| 0000|        03|          3|          1200|198707|            1|        15|350352354|           1|    01|    202312|       7|        5|           01|               0|     12|  7455681|    950725|     916473|   C340|                NULL|\n",
      "|010458230|HOUSEL-RYAN-SHELD...|               NULL|           MEADOW RD|   SANDY POINT|   ME|04972-0000| 0000|        03|          3|          1000|199303|            1|        04|355000000|           1|    01|    202312|       5|        1|           00|               1|     12|   723031|       335|       NULL|   D34Z|MEADOW FARMS HRS ...|\n",
      "|010461676|ISLAND FALLS HIST...|        % GREG RYAN|    NINA SAWYER LANE|  ISLAND FALLS|   ME|04747-0000| 0000|        03|          3|          1000|201408|            1|        15|062000000|           1|    01|    202312|       0|        0|           02|               0|     12|        0|         0|          0|    A80|                NULL|\n",
      "|010471985|BROADREACH FAMILY...|% RUTH H SOUTHWORTH|     ONE PORTLAND SQ|      PORTLAND|   ME|04101-4057| 0000|        03|          3|          1000|199212|            1|        11|031032000|           1|    01|    202209|       0|        0|           01|               0|     09|        0|         0|     -25693|    B21|                NULL|\n",
      "+---------+--------------------+-------------------+--------------------+--------------+-----+----------+-----+----------+-----------+--------------+------+-------------+----------+---------+------------+------+----------+--------+---------+-------------+----------------+-------+---------+----------+-----------+-------+--------------------+\n",
      "only showing top 20 rows\n",
      "\n"
     ]
    }
   ],
   "source": [
    "s3_path = \"s3a://nonprofit-explorer/raw_data/\"\n",
    "\n",
    "# Load CSVs from S3\n",
    "df = spark.read.option(\"header\", True).csv(s3_path)\n",
    "\n",
    "# Show data\n",
    "df.show()\n"
   ]
  },
  {
   "cell_type": "code",
   "execution_count": null,
   "id": "6011eb8f-1ad1-48a4-9f9c-382674d92ff6",
   "metadata": {},
   "outputs": [],
   "source": [
    "import pyspark\n",
    "print(pyspark.__version__)\n"
   ]
  },
  {
   "cell_type": "code",
   "execution_count": null,
   "id": "8a0663ac-f45e-4636-bdcc-8f78eb1ddb78",
   "metadata": {},
   "outputs": [],
   "source": []
  }
 ],
 "metadata": {
  "kernelspec": {
   "display_name": "Python 3 (ipykernel)",
   "language": "python",
   "name": "python3"
  },
  "language_info": {
   "codemirror_mode": {
    "name": "ipython",
    "version": 3
   },
   "file_extension": ".py",
   "mimetype": "text/x-python",
   "name": "python",
   "nbconvert_exporter": "python",
   "pygments_lexer": "ipython3",
   "version": "3.13.1"
  }
 },
 "nbformat": 4,
 "nbformat_minor": 5
}
